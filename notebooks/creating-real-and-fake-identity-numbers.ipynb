{
 "cells": [
  {
   "cell_type": "markdown",
   "metadata": {},
   "source": [
    "## Department of Home Affairs\n",
    "<img src=\"../img/home-affairs.png\"  />"
   ]
  },
  {
   "cell_type": "markdown",
   "metadata": {},
   "source": [
    "#### How to validate SA Identity Numbers\n",
    "\n",
    "Format:\n",
    "**{YYMMDD}** **{G}** **{SSS}** **{C}** **{A}** **{Z}**  \n",
    "**YYMMDD** : Date of birth.  \n",
    "**G**  : Gender. 0-4 Female; 5-9 Male.  \n",
    "**SSS**  : Sequence No. for DOB/G combination.  \n",
    "**C**  : Citizenship. 0 SA; 1 Other.  \n",
    "**A**  : Usually 8, or 9 [can be other values]  \n",
    "**Z**  : Control digit calculated in the following section:  \n",
    "___\n",
    "\n",
    "Formula to calculate the check digit for a 13 digit identity number:\n",
    "\n",
    "According to the provisions of the Identification Amendment Act, 2000 (Act No. 28 of 2000,\n",
    "which was promulgated on 13 October 2000) all forms of identity documents other than the\n",
    "green bar-coded identity document are invalid. [my observation: the following algorithm appears to work for the older 'blue'-book id numbers as well].  In accordance with the legislation,\n",
    "the control figure which is the 13th digit of all identity numbers which have 08 and 09 is\n",
    "calculated as follows using ID Number **800101 5009 087** as an example:\n",
    "\n",
    "    Add all the digits in the odd positions (excluding last digit).\n",
    "      8 + 0 + 0 + 5 + 0 + 0 = 13...................[1]\n",
    "    Move the even positions into a field and multiply the number by 2.\n",
    "      011098 x 2 = 22196\n",
    "    Add the digits of the result in b).\n",
    "      2 + 2 + 1 + 9 + 6 = 20.........................[2]\n",
    "    Add the answer in [2] to the answer in [1].\n",
    "      13 + 20 = 33\n",
    "    Subtract the second digit (i.e. 3) from 10.  The number must tally with the last number in the ID Number. If the  result is 2 digits, the last digit is used to compare against the last number in the ID Number.  If the answer differs, the ID number is invalid."
   ]
  },
  {
   "cell_type": "markdown",
   "metadata": {},
   "source": [
    "___\n",
    "\n",
    "# ID Validation and Creation Algorithm \n",
    "\n",
    "Id validation and creation algorithm as explained above"
   ]
  },
  {
   "cell_type": "code",
   "execution_count": 1,
   "metadata": {
    "collapsed": true
   },
   "outputs": [],
   "source": [
    "class IDValidator:\n",
    "    def __init__(self, id_number):\n",
    "        self.id_number = id_number\n",
    "    \n",
    "    def sum_odd_digits(self):\n",
    "        id_list = sum(list(map(int, self.id_number))[::2][:-1])\n",
    "        return id_list\n",
    "        \n",
    "    def even_digits(self):\n",
    "        id_even = sum(list(map(int, str(int(self.id_number[1::2])* 2))))\n",
    "        return id_even\n",
    "    \n",
    "    def last_digit(self):\n",
    "        last_number = self.sum_odd_digits() + self.even_digits()\n",
    "        results = (10 - int(str(last_number)[1]))\n",
    "        if results == 10:\n",
    "            results = 0\n",
    "        return results\n",
    "    \n",
    "    def _sum_odd_digits(self):\n",
    "        id_list = sum(list(map(int, self.id_number))[::2])\n",
    "        return id_list\n",
    "    \n",
    "    def generate_id_number(self):\n",
    "        last_number = self._sum_odd_digits() + self.even_digits()\n",
    "        results = (10 - int(str(last_number)[1]))\n",
    "        if results == 10:\n",
    "            results = 0\n",
    "        new_id_number = self.id_number + str(results)\n",
    "        return (results, new_id_number)"
   ]
  },
  {
   "cell_type": "code",
   "execution_count": 2,
   "metadata": {},
   "outputs": [
    {
     "data": {
      "text/plain": [
       "7"
      ]
     },
     "execution_count": 2,
     "metadata": {},
     "output_type": "execute_result"
    }
   ],
   "source": [
    "IDValidator('800101500908').last_digit()"
   ]
  },
  {
   "cell_type": "markdown",
   "metadata": {},
   "source": [
    "### Generating ID Numbers\n",
    "\n",
    "**{YYMMDD}** **{G}** **{SSS}** **{C}** **{A}** **{Z}**  \n",
    "**YYMMDD** : Date of birth.  \n",
    "**G**  : Gender. 0-4 Female; 5-9 Male.  \n",
    "**SSS**  : Sequence No. for DOB/G combination.  \n",
    "**C**  : Citizenship. 0 SA; 1 Other.  \n",
    "**A**  : Usually 8, or 9 [can be other values]  \n",
    "**Z**  : Control digit calculated in the following section:  "
   ]
  },
  {
   "cell_type": "markdown",
   "metadata": {},
   "source": [
    "## ID Validation"
   ]
  },
  {
   "cell_type": "code",
   "execution_count": 3,
   "metadata": {},
   "outputs": [
    {
     "data": {
      "text/plain": [
       "'8001015009087'"
      ]
     },
     "execution_count": 3,
     "metadata": {},
     "output_type": "execute_result"
    }
   ],
   "source": [
    "IDValidator('800101500908').generate_id_number()[1]"
   ]
  },
  {
   "cell_type": "markdown",
   "metadata": {},
   "source": [
    "# Generating ID numbers\n",
    "___"
   ]
  },
  {
   "cell_type": "markdown",
   "metadata": {},
   "source": [
    "### Generating South African Citizenship Id Numbers"
   ]
  },
  {
   "cell_type": "code",
   "execution_count": 5,
   "metadata": {
    "collapsed": true,
    "scrolled": false
   },
   "outputs": [],
   "source": [
    "# days of the year excluding leap year\n",
    "months_days = [31, 28, 31, 30, 31, 30, 31, 31, 30, 31, 30, 31]\n",
    "\n",
    "def fill_zeros(digit):\n",
    "    \n",
    "    if len(str(digit))==1:\n",
    "        digit = str(digit).zfill(2)\n",
    "    else:\n",
    "        digit = str(digit)\n",
    "        \n",
    "    return digit\n",
    "\n",
    "def write_id_number(idnumber, file_name='citizens_id'):\n",
    "    with open('../data/' + file_name + '.txt', 'a') as id_book:\n",
    "        id_book.write(idnumber)\n",
    "\n",
    "def process_data(file_name='citizens_id', cent=19, low_y=18, up_y=99, lower=5000, upper=10000, citizen=0):\n",
    "    for year in range(low_y, up_y):\n",
    "        print('Generating Ids For Year {0}{1} \\n'.format(cent, fill_zeros(year)))\n",
    "        for i in range(12):\n",
    "            for days in range(months_days[i]):\n",
    "                for sss in range(lower, upper):\n",
    "                    for a in range(8, 10):\n",
    "                        incomp_id = fill_zeros(year) + fill_zeros(i + 1) + fill_zeros(days + 1) \\\n",
    "                        + str(sss).zfill(4) + str(citizen) + str(a)\n",
    "                        whole_id = IDValidator(incomp_id).generate_id_number()[1] + '\\n'\n",
    "                        write_id_number(whole_id, file_name=file_name)"
   ]
  },
  {
   "cell_type": "markdown",
   "metadata": {},
   "source": [
    "### Genrating IDs from 1918 to 1999"
   ]
  },
  {
   "cell_type": "code",
   "execution_count": 7,
   "metadata": {},
   "outputs": [
    {
     "name": "stdout",
     "output_type": "stream",
     "text": [
      "Start Generating Id Numbers for Citizens!!!\n",
      "Generating Ids For Year 1918 \n",
      "\n",
      "Generating Ids For Year 1919 \n",
      "\n",
      "Generating Ids For Year 1920 \n",
      "\n",
      "Generating Ids For Year 1921 \n",
      "\n",
      "Generating Ids For Year 1922 \n",
      "\n",
      "Generating Ids For Year 1923 \n",
      "\n",
      "Generating Ids For Year 1924 \n",
      "\n",
      "Generating Ids For Year 1925 \n",
      "\n",
      "Generating Ids For Year 1926 \n",
      "\n",
      "Generating Ids For Year 1927 \n",
      "\n",
      "Generating Ids For Year 1928 \n",
      "\n",
      "Generating Ids For Year 1929 \n",
      "\n",
      "Generating Ids For Year 1930 \n",
      "\n",
      "Generating Ids For Year 1931 \n",
      "\n",
      "Generating Ids For Year 1932 \n",
      "\n",
      "Generating Ids For Year 1933 \n",
      "\n",
      "Generating Ids For Year 1934 \n",
      "\n",
      "Generating Ids For Year 1935 \n",
      "\n",
      "Generating Ids For Year 1936 \n",
      "\n",
      "Generating Ids For Year 1937 \n",
      "\n",
      "Generating Ids For Year 1938 \n",
      "\n",
      "Generating Ids For Year 1939 \n",
      "\n",
      "Generating Ids For Year 1940 \n",
      "\n",
      "Generating Ids For Year 1941 \n",
      "\n",
      "Generating Ids For Year 1942 \n",
      "\n",
      "Generating Ids For Year 1943 \n",
      "\n",
      "Generating Ids For Year 1944 \n",
      "\n",
      "Generating Ids For Year 1945 \n",
      "\n",
      "Generating Ids For Year 1946 \n",
      "\n",
      "Generating Ids For Year 1947 \n",
      "\n",
      "Generating Ids For Year 1948 \n",
      "\n",
      "Generating Ids For Year 1949 \n",
      "\n",
      "Generating Ids For Year 1950 \n",
      "\n",
      "Generating Ids For Year 1951 \n",
      "\n",
      "Generating Ids For Year 1952 \n",
      "\n",
      "Generating Ids For Year 1953 \n",
      "\n",
      "Generating Ids For Year 1954 \n",
      "\n",
      "Generating Ids For Year 1955 \n",
      "\n",
      "Generating Ids For Year 1956 \n",
      "\n",
      "Generating Ids For Year 1957 \n",
      "\n",
      "Generating Ids For Year 1958 \n",
      "\n",
      "Generating Ids For Year 1959 \n",
      "\n",
      "Generating Ids For Year 1960 \n",
      "\n",
      "Generating Ids For Year 1961 \n",
      "\n",
      "Generating Ids For Year 1962 \n",
      "\n",
      "Generating Ids For Year 1963 \n",
      "\n",
      "Generating Ids For Year 1964 \n",
      "\n",
      "Generating Ids For Year 1965 \n",
      "\n",
      "Generating Ids For Year 1966 \n",
      "\n",
      "Generating Ids For Year 1967 \n",
      "\n",
      "Generating Ids For Year 1968 \n",
      "\n",
      "Generating Ids For Year 1969 \n",
      "\n",
      "Generating Ids For Year 1970 \n",
      "\n",
      "Generating Ids For Year 1971 \n",
      "\n",
      "Generating Ids For Year 1972 \n",
      "\n",
      "Generating Ids For Year 1973 \n",
      "\n",
      "Generating Ids For Year 1974 \n",
      "\n",
      "Generating Ids For Year 1975 \n",
      "\n",
      "Generating Ids For Year 1976 \n",
      "\n",
      "Generating Ids For Year 1977 \n",
      "\n",
      "Generating Ids For Year 1978 \n",
      "\n",
      "Generating Ids For Year 1979 \n",
      "\n",
      "Generating Ids For Year 1980 \n",
      "\n",
      "Generating Ids For Year 1981 \n",
      "\n",
      "Generating Ids For Year 1982 \n",
      "\n",
      "Generating Ids For Year 1983 \n",
      "\n",
      "Generating Ids For Year 1984 \n",
      "\n",
      "Generating Ids For Year 1985 \n",
      "\n",
      "Generating Ids For Year 1986 \n",
      "\n",
      "Generating Ids For Year 1987 \n",
      "\n",
      "Generating Ids For Year 1988 \n",
      "\n",
      "Generating Ids For Year 1989 \n",
      "\n",
      "Generating Ids For Year 1990 \n",
      "\n",
      "Generating Ids For Year 1991 \n",
      "\n",
      "Generating Ids For Year 1992 \n",
      "\n",
      "Generating Ids For Year 1993 \n",
      "\n",
      "Generating Ids For Year 1994 \n",
      "\n",
      "Generating Ids For Year 1995 \n",
      "\n",
      "Generating Ids For Year 1996 \n",
      "\n",
      "Generating Ids For Year 1997 \n",
      "\n",
      "Generating Ids For Year 1998 \n",
      "\n",
      "Done Generating Id Numbers!!!\n"
     ]
    }
   ],
   "source": [
    "print('Start Generating Id Numbers for Citizens!!!')\n",
    "process_data(file_name='citizens_id')\n",
    "print('Done Generating Id Numbers!!!')"
   ]
  },
  {
   "cell_type": "code",
   "execution_count": 8,
   "metadata": {},
   "outputs": [
    {
     "name": "stdout",
     "output_type": "stream",
     "text": [
      "Start Generating Id Numbers for Citizens 1999 Only!!!\n",
      "Generating Ids For Year 1999 \n",
      "\n",
      "Done Generating Id Numbers!!!\n"
     ]
    }
   ],
   "source": [
    "print('Start Generating Id Numbers for Citizens 1999 Only!!!')\n",
    "process_data(file_name='citizens_id', cent=19, low_y=99, up_y=100)\n",
    "print('Done Generating Id Numbers!!!')"
   ]
  },
  {
   "cell_type": "markdown",
   "metadata": {},
   "source": [
    "### Generating IDs from 2000 to 2018"
   ]
  },
  {
   "cell_type": "code",
   "execution_count": 6,
   "metadata": {},
   "outputs": [
    {
     "name": "stdout",
     "output_type": "stream",
     "text": [
      "Start Generating Id Numbers for Citizens!!!\n",
      "Generating Ids For Year 2000 \n",
      "\n",
      "Generating Ids For Year 2001 \n",
      "\n",
      "Generating Ids For Year 2002 \n",
      "\n",
      "Generating Ids For Year 2003 \n",
      "\n",
      "Generating Ids For Year 2004 \n",
      "\n",
      "Generating Ids For Year 2005 \n",
      "\n",
      "Generating Ids For Year 2006 \n",
      "\n",
      "Generating Ids For Year 2007 \n",
      "\n",
      "Generating Ids For Year 2008 \n",
      "\n",
      "Generating Ids For Year 2009 \n",
      "\n",
      "Generating Ids For Year 2010 \n",
      "\n",
      "Generating Ids For Year 2011 \n",
      "\n",
      "Generating Ids For Year 2012 \n",
      "\n",
      "Generating Ids For Year 2013 \n",
      "\n",
      "Generating Ids For Year 2014 \n",
      "\n",
      "Generating Ids For Year 2015 \n",
      "\n",
      "Generating Ids For Year 2016 \n",
      "\n",
      "Generating Ids For Year 2017 \n",
      "\n",
      "Done Generating Id Numbers!!!\n"
     ]
    }
   ],
   "source": [
    "print('Start Generating Id Numbers for Citizens!!!')\n",
    "process_data(file_name='2000s_citizens_id', cent=20, low_y=0, up_y=18)\n",
    "print('Done Generating Id Numbers!!!')"
   ]
  },
  {
   "cell_type": "code",
   "execution_count": 9,
   "metadata": {},
   "outputs": [
    {
     "name": "stdout",
     "output_type": "stream",
     "text": [
      "Start Generating Id Numbers for Citizens 2018!!!\n",
      "Generating Ids For Year 2018 \n",
      "\n",
      "Done Generating Id Numbers!!!\n"
     ]
    }
   ],
   "source": [
    "print('Start Generating Id Numbers for Citizens 2018!!!')\n",
    "process_data(file_name='2000s_citizens_id', cent=20, low_y=18, up_y=19)\n",
    "print('Done Generating Id Numbers!!!')"
   ]
  },
  {
   "cell_type": "markdown",
   "metadata": {},
   "source": [
    "# Female "
   ]
  },
  {
   "cell_type": "markdown",
   "metadata": {},
   "source": [
    "### Generating Female IDs from 1918 to 1999"
   ]
  },
  {
   "cell_type": "code",
   "execution_count": null,
   "metadata": {
    "collapsed": true
   },
   "outputs": [],
   "source": [
    "print('Start Generating Id Numbers for Citizens!!!')\n",
    "process_data(file_name='females_citizens_id', cent=19, low_y=18, up_y=100, lower=0, upper=5000, citizen=0)\n",
    "print('Done Generating Id Numbers!!!')"
   ]
  },
  {
   "cell_type": "markdown",
   "metadata": {},
   "source": [
    "### Generating Female IDs from 2000 to 2018"
   ]
  },
  {
   "cell_type": "code",
   "execution_count": null,
   "metadata": {
    "collapsed": true
   },
   "outputs": [],
   "source": [
    "print('Start Generating Id Numbers for Citizens!!!')\n",
    "process_data(file_name='2000s_females_citizens_id', cent=20, low_y=0, up_y=19, lower=0, upper=5000, citizen=0)\n",
    "print('Done Generating Id Numbers!!!')"
   ]
  },
  {
   "cell_type": "markdown",
   "metadata": {},
   "source": [
    "___\n",
    "## Generating Foreign \n",
    "### Male Id Numbers 1918 - 1999"
   ]
  },
  {
   "cell_type": "markdown",
   "metadata": {},
   "source": [
    "IE. <span style=\"color:red\">Do not run this cells it will take long its foreign applicants we do not neet to upload them to SassaApp</span> (This is for illustration purposes)"
   ]
  },
  {
   "cell_type": "code",
   "execution_count": null,
   "metadata": {
    "collapsed": true
   },
   "outputs": [],
   "source": [
    "print('Start Generating Id Numbers for Citizens!!!')\n",
    "process_data(file_name='foreign_id', citizen=1)\n",
    "print('Done Generating Id Numbers!!!')"
   ]
  },
  {
   "cell_type": "markdown",
   "metadata": {},
   "source": [
    "IE. <span style=\"color:red\">Do not run this cells it will take long its foreign applicants we do not neet to upload them to SassaApp</span>"
   ]
  },
  {
   "cell_type": "code",
   "execution_count": null,
   "metadata": {
    "collapsed": true
   },
   "outputs": [],
   "source": [
    "print('Start Generating Id Numbers for Citizens!!!')\n",
    "process_data(file_name='foreign_id', cent=20, low_y=0, up_y=18, citizen=1)\n",
    "print('Done Generating Id Numbers!!!')"
   ]
  },
  {
   "cell_type": "markdown",
   "metadata": {},
   "source": [
    "IE. <span style=\"color:red\">Do not run this cells it will take long its foreign applicants we do not neet to upload them to SassaApp</span>"
   ]
  },
  {
   "cell_type": "code",
   "execution_count": null,
   "metadata": {
    "collapsed": true
   },
   "outputs": [],
   "source": [
    "print('Start Generating Id Numbers for Citizens!!!')\n",
    "process_data(file_name='foreign_id', cent=20, low_y=0, up_y=18, citizen=1)\n",
    "print('Done Generating Id Numbers!!!')"
   ]
  },
  {
   "cell_type": "markdown",
   "metadata": {},
   "source": [
    "### Social Grant Analysis and upload  \n",
    "Now we will go through the database to rebuild the citizens database on family tree, and check weather the individuals are able to have pension, social grant, and etc"
   ]
  },
  {
   "cell_type": "markdown",
   "metadata": {},
   "source": [
    "## Home Affairs with support to Sassa\n",
    "\n",
    "![alt](../img/logo.png)"
   ]
  }
 ],
 "metadata": {
  "kernelspec": {
   "display_name": "Python 3",
   "language": "python",
   "name": "python3"
  },
  "language_info": {
   "codemirror_mode": {
    "name": "ipython",
    "version": 3
   },
   "file_extension": ".py",
   "mimetype": "text/x-python",
   "name": "python",
   "nbconvert_exporter": "python",
   "pygments_lexer": "ipython3",
   "version": "3.6.3"
  }
 },
 "nbformat": 4,
 "nbformat_minor": 2
}
